{
  "nbformat": 4,
  "nbformat_minor": 0,
  "metadata": {
    "colab": {
      "provenance": [],
      "collapsed_sections": [],
      "authorship_tag": "ABX9TyNwk9BKsoib71O1qiCG7LQm",
      "include_colab_link": true
    },
    "kernelspec": {
      "name": "python3",
      "display_name": "Python 3"
    },
    "language_info": {
      "name": "python"
    }
  },
  "cells": [
    {
      "cell_type": "markdown",
      "metadata": {
        "id": "view-in-github",
        "colab_type": "text"
      },
      "source": [
        "<a href=\"https://colab.research.google.com/github/deeptibhat05/testpy/blob/main/New.ipynb\" target=\"_parent\"><img src=\"https://colab.research.google.com/assets/colab-badge.svg\" alt=\"Open In Colab\"/></a>"
      ]
    },
    {
      "cell_type": "code",
      "source": [
        "print(\"Heyy\")"
      ],
      "metadata": {
        "colab": {
          "base_uri": "https://localhost:8080/"
        },
        "id": "56VNRXUCMOVT",
        "outputId": "338499ab-0f7e-4556-e57c-697f4cb80ecc"
      },
      "execution_count": 14,
      "outputs": [
        {
          "output_type": "stream",
          "name": "stdout",
          "text": [
            "Heyy\n"
          ]
        }
      ]
    },
    {
      "cell_type": "markdown",
      "source": [],
      "metadata": {
        "id": "07-vVpt_NqL-"
      }
    },
    {
      "cell_type": "code",
      "source": [
        "a = input()\n",
        "b=input()\n",
        "print(int(a)+int(b))"
      ],
      "metadata": {
        "colab": {
          "base_uri": "https://localhost:8080/"
        },
        "id": "0uYMA0htMW8C",
        "outputId": "5b10ff96-6e87-4d9d-943e-3c890207a4a8"
      },
      "execution_count": 16,
      "outputs": [
        {
          "output_type": "stream",
          "name": "stdout",
          "text": [
            "7\n",
            "8\n",
            "15\n"
          ]
        }
      ]
    },
    {
      "cell_type": "code",
      "source": [
        "print(a+b)"
      ],
      "metadata": {
        "colab": {
          "base_uri": "https://localhost:8080/"
        },
        "id": "Zpn7QoX9NOqD",
        "outputId": "6fa31e8a-095d-4c7b-adaf-86cc61a3f60c"
      },
      "execution_count": 17,
      "outputs": [
        {
          "output_type": "stream",
          "name": "stdout",
          "text": [
            "78\n"
          ]
        }
      ]
    },
    {
      "cell_type": "code",
      "source": [
        "a=[]\n",
        "n = int(input(\"Enter array size, followed by elements:\\n\"))\n",
        "for i in range(0,n):\n",
        "  a.append(int(input()))\n",
        "print(a)"
      ],
      "metadata": {
        "colab": {
          "base_uri": "https://localhost:8080/"
        },
        "id": "zmTCBHkfPWwc",
        "outputId": "4e35e013-a6cd-44a4-c4f7-8cda3d3102f8"
      },
      "execution_count": 22,
      "outputs": [
        {
          "output_type": "stream",
          "name": "stdout",
          "text": [
            "Enter array size, followed by elements:\n",
            "3\n",
            "1\n",
            "2\n",
            "3\n",
            "[1, 2, 3]\n"
          ]
        }
      ]
    },
    {
      "cell_type": "code",
      "source": [
        "a=[int(i) for i in input().split()]\n",
        "k=int(input(\"Enter key element\"))\n",
        "for n in range(len(a)):\n",
        "  if(a[n]==k):\n",
        "    print(\"Element found at index - \"+str(n));\n",
        "    break;\n"
      ],
      "metadata": {
        "colab": {
          "base_uri": "https://localhost:8080/"
        },
        "id": "VFb1pN3AQlp-",
        "outputId": "e9312722-3d47-4c20-dd13-f608c4c10d47"
      },
      "execution_count": 23,
      "outputs": [
        {
          "output_type": "stream",
          "name": "stdout",
          "text": [
            "4 5 6 7 9 0\n",
            "9\n",
            "Element found at index - 4\n"
          ]
        }
      ]
    },
    {
      "cell_type": "code",
      "source": [
        "a=[int(i) for i in input().split()]\n",
        "k=int(input(\"Enter key element\"))\n",
        "low=0\n",
        "high=len(a)-1\n",
        "while(low<=high):\n",
        "  mid=int((low+high)/2)\n",
        "  if(a[mid]==k):\n",
        "    print(\"Element found at index - \"+str(mid));\n",
        "    break;\n",
        "  elif(a[mid]<k):\n",
        "    low=mid+1\n",
        "  else:\n",
        "    high=mid-1\n"
      ],
      "metadata": {
        "colab": {
          "base_uri": "https://localhost:8080/"
        },
        "id": "4hbyXJk7RYMl",
        "outputId": "dfc004b3-15cb-486f-8d1e-88548003c292"
      },
      "execution_count": 27,
      "outputs": [
        {
          "output_type": "stream",
          "name": "stdout",
          "text": [
            "1 2 3 4 5 6 7\n",
            "Enter key element6\n",
            "Element found at index - 5\n"
          ]
        }
      ]
    },
    {
      "cell_type": "code",
      "source": [
        "import numpy as np"
      ],
      "metadata": {
        "id": "jo6bhwvD31BI"
      },
      "execution_count": null,
      "outputs": []
    }
  ]
}